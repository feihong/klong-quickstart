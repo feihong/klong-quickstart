{
 "cells": [
  {
   "cell_type": "markdown",
   "id": "aa55d3e0-3cf9-4bc5-a0be-8f365a23bb95",
   "metadata": {},
   "source": [
    "# Differences between Klong and KlongPy"
   ]
  },
  {
   "cell_type": "code",
   "execution_count": 2,
   "id": "4d3db5d5-1d27-4d92-8e14-812710c83d20",
   "metadata": {},
   "outputs": [
    {
     "name": "stdout",
     "output_type": "stream",
     "text": [
      "[1 array([1, 2]) array([1, 2, 3]) array([1, 2, 3, 4])]"
     ]
    }
   ],
   "source": [
    ":\"Expected [1 [1 2] [1 2 3] [1 2 3 4]]\"\n",
    "1,\\[2 3 4]"
   ]
  },
  {
   "cell_type": "code",
   "execution_count": 11,
   "id": "df56c3b9-0ce4-4766-aba5-0bef36ed3d41",
   "metadata": {},
   "outputs": [
    {
     "name": "stdout",
     "output_type": "stream",
     "text": [
      "[array([array([1, 2, 3]), 4], dtype=object) 5]"
     ]
    }
   ],
   "source": [
    ":\"Expected [[[1 2 3] 4] 5]\"\n",
    "[[[1 2 3] 4] 5]"
   ]
  },
  {
   "cell_type": "code",
   "execution_count": 17,
   "id": "852fcdde-fd4e-4659-94ec-cb769ea480e0",
   "metadata": {},
   "outputs": [
    {
     "name": "stdout",
     "output_type": "stream",
     "text": [
      "0.049627618149925445"
     ]
    }
   ],
   "source": [
    ":\"Expected :nilad\"\n",
    "{.rn()}"
   ]
  },
  {
   "cell_type": "code",
   "execution_count": 22,
   "id": "983baf6e-e893-4677-84f9-780b00492d73",
   "metadata": {},
   "outputs": [
    {
     "name": "stdout",
     "output_type": "stream",
     "text": [
      "[0 4 0 4 3 3 1 2 3 2]"
     ]
    }
   ],
   "source": [
    ":\"Expected kg: error: wrong arity: :nilad\"\n",
    "{_5*.rn()}'10:^0"
   ]
  },
  {
   "cell_type": "code",
   "execution_count": 1,
   "id": "dbdfbabd-7491-4958-9356-3b5fb85dab63",
   "metadata": {},
   "outputs": [
    {
     "name": "stdout",
     "output_type": "stream",
     "text": [
      "我"
     ]
    }
   ],
   "source": [
    ":\"kg: error: char: domain error: 25105\"\n",
    ":#25105"
   ]
  },
  {
   "cell_type": "code",
   "execution_count": 2,
   "id": "94b5863b-c3e6-4203-86ac-9609f5052133",
   "metadata": {},
   "outputs": [
    {
     "name": "stdout",
     "output_type": "stream",
     "text": [
      "01234"
     ]
    }
   ],
   "source": [
    ":\"kg: error: amend: range error: 6\"\n",
    "\"01234\":=\"xx\",[6]"
   ]
  }
 ],
 "metadata": {
  "kernelspec": {
   "display_name": "KlongPy",
   "language": "Klong",
   "name": "klongpy_kernel"
  },
  "language_info": {
   "file_extension": ".kg",
   "mimetype": "text/plain",
   "name": "Klong"
  }
 },
 "nbformat": 4,
 "nbformat_minor": 5
}
