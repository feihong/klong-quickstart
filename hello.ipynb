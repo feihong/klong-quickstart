{
 "cells": [
  {
   "cell_type": "code",
   "execution_count": 3,
   "id": "77e070f0-c7f8-4a7d-9204-eebe451631ff",
   "metadata": {},
   "outputs": [
    {
     "name": "stdout",
     "output_type": "stream",
     "text": [
      "[ 0  2  4  6  8 10 12 14]"
     ]
    }
   ],
   "source": [
    "2*!8"
   ]
  },
  {
   "cell_type": "code",
   "execution_count": 20,
   "id": "c755a8d7-5c14-4600-b33c-f99a6a041ead",
   "metadata": {},
   "outputs": [
    {
     "name": "stdout",
     "output_type": "stream",
     "text": [
      "[ 0  1  4  9 16 25 36 49]"
     ]
    }
   ],
   "source": [
    "{x*x}'!8"
   ]
  },
  {
   "cell_type": "code",
   "execution_count": 21,
   "id": "9ab610cb-83b6-47d4-809a-49c7215c9eb9",
   "metadata": {},
   "outputs": [
    {
     "name": "stdout",
     "output_type": "stream",
     "text": [
      "10"
     ]
    }
   ],
   "source": [
    "+/!5"
   ]
  },
  {
   "cell_type": "code",
   "execution_count": 22,
   "id": "c89fb76a-9be0-4bdb-81aa-f575a394e3f9",
   "metadata": {},
   "outputs": [
    {
     "name": "stdout",
     "output_type": "stream",
     "text": [
      "我"
     ]
    }
   ],
   "source": [
    ":#25105"
   ]
  },
  {
   "cell_type": "code",
   "execution_count": 43,
   "id": "7ef5a49e-1c35-490c-8239-12150f42dc93",
   "metadata": {},
   "outputs": [
    {
     "name": "stdout",
     "output_type": "stream",
     "text": [
      "[4 2 0 0 3 2 1 1 4 2 2 2 0 2 1 4 2 1 0 1 2 1 3 3 4 3 4 3 0 2]"
     ]
    }
   ],
   "source": [
    "{_5*.rn()}'!30"
   ]
  },
  {
   "cell_type": "code",
   "execution_count": 78,
   "id": "04d89761-f6cb-4a4a-b740-aa75b8298cf5",
   "metadata": {},
   "outputs": [
    {
     "name": "stdout",
     "output_type": "stream",
     "text": [
      ":monad"
     ]
    }
   ],
   "source": [
    "randInt::{x+_(1+y-x)*.rn()}"
   ]
  },
  {
   "cell_type": "code",
   "execution_count": 80,
   "id": "e1bb79d4-34bc-48b0-bbc7-366d8f8fd791",
   "metadata": {},
   "outputs": [
    {
     "name": "stdout",
     "output_type": "stream",
     "text": [
      "[6 8 7 8 5 4 7 4 4 4 8 8 5 5 7 8 6 7 4 6 7 6 6 8 4 8 5 7 4 4 7 4 6 6 8 6 8\n",
      " 6 4 7 8 5 5 7 6 4 7 6 7 5]"
     ]
    }
   ],
   "source": [
    "{4 randInt 8}'!50"
   ]
  },
  {
   "cell_type": "code",
   "execution_count": 98,
   "id": "6b07363a-04db-4285-831f-dc1ff59df668",
   "metadata": {},
   "outputs": [
    {
     "name": "stdout",
     "output_type": "stream",
     "text": [
      ":nilad"
     ]
    }
   ],
   "source": [
    "randHanzi::{{:#randInt(19968; 40959)}'!x}"
   ]
  },
  {
   "cell_type": "code",
   "execution_count": 103,
   "id": "d2995d07-32cd-48af-83c2-c5a451304565",
   "metadata": {},
   "outputs": [
    {
     "name": "stdout",
     "output_type": "stream",
     "text": [
      "[['絘' '鷿' '櫯' '廥' '賉' '扩' '喔' '諦']\n",
      " ['滰' '盘' '暈' '庆' '铖' '窗' '緉' '观']\n",
      " ['蜚' '薺' '硒' '菮' '瑞' '响' '眥' '湣']\n",
      " ['檯' '唪' '忉' '韌' '炼' '琂' '予' '褀']\n",
      " ['務' '塜' '磱' '构' '归' '絾' '時' '榼']\n",
      " ['幢' '泿' '刍' '卑' '圢' '歪' '鈠' '叮']\n",
      " ['紷' '粯' '摪' '廵' '觼' '櫒' '亢' '槑']\n",
      " ['鍢' '踠' '愙' '鼏' '秚' '妤' '脁' '舛']]"
     ]
    }
   ],
   "source": [
    "[8 8]:^randHanzi@64"
   ]
  },
  {
   "cell_type": "markdown",
   "id": "4e12ab6c-242d-4309-b062-64fc45adf24b",
   "metadata": {},
   "source": [
    "# Operators"
   ]
  },
  {
   "cell_type": "code",
   "execution_count": null,
   "id": "4a3c9cf5-4af2-40fb-a3d3-1f9f86790f26",
   "metadata": {},
   "outputs": [],
   "source": []
  }
 ],
 "metadata": {
  "kernelspec": {
   "display_name": "KlongPy",
   "language": "Klong",
   "name": "klongpy_kernel"
  },
  "language_info": {
   "file_extension": ".kg",
   "mimetype": "text/plain",
   "name": "Klong"
  }
 },
 "nbformat": 4,
 "nbformat_minor": 5
}
