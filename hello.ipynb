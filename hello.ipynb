{
 "cells": [
  {
   "cell_type": "code",
   "execution_count": 3,
   "id": "77e070f0-c7f8-4a7d-9204-eebe451631ff",
   "metadata": {},
   "outputs": [
    {
     "name": "stdout",
     "output_type": "stream",
     "text": [
      "[ 0  2  4  6  8 10 12 14]"
     ]
    }
   ],
   "source": [
    "2*!8"
   ]
  },
  {
   "cell_type": "code",
   "execution_count": 106,
   "id": "c755a8d7-5c14-4600-b33c-f99a6a041ead",
   "metadata": {},
   "outputs": [
    {
     "name": "stdout",
     "output_type": "stream",
     "text": [
      "[ 0  1  4  9 16 25 36 49]"
     ]
    }
   ],
   "source": [
    "{x*x}'!8"
   ]
  },
  {
   "cell_type": "code",
   "execution_count": 108,
   "id": "63db04ce-a646-441d-a22e-c25f99123443",
   "metadata": {},
   "outputs": [
    {
     "name": "stdout",
     "output_type": "stream",
     "text": [
      "[ 4 10 18]"
     ]
    }
   ],
   "source": [
    "[1 2 3]{x*y}'[4 5 6]"
   ]
  },
  {
   "cell_type": "code",
   "execution_count": 113,
   "id": "35d5fd5e-62f6-49bc-8578-d5d20e69689a",
   "metadata": {},
   "outputs": [
    {
     "name": "stdout",
     "output_type": "stream",
     "text": [
      "[ 5  4  3  2  1  0 -1 -2]"
     ]
    }
   ],
   "source": [
    "{x-y}(5;)'!8"
   ]
  },
  {
   "cell_type": "code",
   "execution_count": 114,
   "id": "c5ad94cb-6dbb-4282-8a5d-e7001059fc4b",
   "metadata": {},
   "outputs": [
    {
     "name": "stdout",
     "output_type": "stream",
     "text": [
      "[-5 -4 -3 -2 -1  0  1  2]"
     ]
    }
   ],
   "source": [
    "{x-y}(;5)'!8"
   ]
  },
  {
   "cell_type": "code",
   "execution_count": 22,
   "id": "c89fb76a-9be0-4bdb-81aa-f575a394e3f9",
   "metadata": {},
   "outputs": [
    {
     "name": "stdout",
     "output_type": "stream",
     "text": [
      "我"
     ]
    }
   ],
   "source": [
    ":#25105"
   ]
  },
  {
   "cell_type": "code",
   "execution_count": 43,
   "id": "7ef5a49e-1c35-490c-8239-12150f42dc93",
   "metadata": {},
   "outputs": [
    {
     "name": "stdout",
     "output_type": "stream",
     "text": [
      "[4 2 0 0 3 2 1 1 4 2 2 2 0 2 1 4 2 1 0 1 2 1 3 3 4 3 4 3 0 2]"
     ]
    }
   ],
   "source": [
    "{_5*.rn()}'!30"
   ]
  },
  {
   "cell_type": "code",
   "execution_count": 3,
   "id": "04d89761-f6cb-4a4a-b740-aa75b8298cf5",
   "metadata": {},
   "outputs": [
    {
     "name": "stdout",
     "output_type": "stream",
     "text": [
      ":monad"
     ]
    }
   ],
   "source": [
    ":\"random int between x and y, inclusive\"\n",
    "randInt::{x+_(1+y-x)*.rn()}"
   ]
  },
  {
   "cell_type": "code",
   "execution_count": 80,
   "id": "e1bb79d4-34bc-48b0-bbc7-366d8f8fd791",
   "metadata": {},
   "outputs": [
    {
     "name": "stdout",
     "output_type": "stream",
     "text": [
      "[6 8 7 8 5 4 7 4 4 4 8 8 5 5 7 8 6 7 4 6 7 6 6 8 4 8 5 7 4 4 7 4 6 6 8 6 8\n",
      " 6 4 7 8 5 5 7 6 4 7 6 7 5]"
     ]
    }
   ],
   "source": [
    "{4 randInt 8}'!50"
   ]
  },
  {
   "cell_type": "code",
   "execution_count": 4,
   "id": "6b07363a-04db-4285-831f-dc1ff59df668",
   "metadata": {},
   "outputs": [
    {
     "name": "stdout",
     "output_type": "stream",
     "text": [
      ":nilad"
     ]
    }
   ],
   "source": [
    "randHanzi::{{x;:#randInt(19968; 40959)}'!x}"
   ]
  },
  {
   "cell_type": "code",
   "execution_count": 5,
   "id": "d2995d07-32cd-48af-83c2-c5a451304565",
   "metadata": {},
   "outputs": [
    {
     "name": "stdout",
     "output_type": "stream",
     "text": [
      "[['隠' '亐' '畾' '欫' '碜' '胚' '剿' '弘']\n",
      " ['轓' '拼' '愷' '挿' '弐' '莱' '斄' '芔']\n",
      " ['埧' '緃' '葑' '鸄' '鿞' '犍' '恺' '締']\n",
      " ['艶' '剓' '鉛' '鷠' '忙' '云' '狹' '籁']\n",
      " ['倰' '霁' '鈬' '蓖' '疛' '劌' '租' '鰁']\n",
      " ['萭' '呝' '弩' '聬' '侳' '討' '種' '變']\n",
      " ['驸' '忶' '庛' '搙' '泏' '玶' '恄' '麨']\n",
      " ['槡' '暹' '蔐' '狧' '陑' '喿' '递' '岻']]"
     ]
    }
   ],
   "source": [
    "[8 8]:^randHanzi@64"
   ]
  },
  {
   "cell_type": "markdown",
   "id": "4e12ab6c-242d-4309-b062-64fc45adf24b",
   "metadata": {},
   "source": [
    "## Operators"
   ]
  },
  {
   "cell_type": "code",
   "execution_count": 123,
   "id": "b37c1ab3-28b7-4a75-af86-1d933fce58ba",
   "metadata": {},
   "outputs": [
    {
     "name": "stdout",
     "output_type": "stream",
     "text": [
      "[12.   6.   4.   3.   2.4  2. ]"
     ]
    }
   ],
   "source": [
    "12%[1 2 3 4 5 6]"
   ]
  },
  {
   "cell_type": "code",
   "execution_count": 125,
   "id": "88fd7d09-8ba6-4f1f-ac21-e0b83a07fa26",
   "metadata": {},
   "outputs": [
    {
     "name": "stdout",
     "output_type": "stream",
     "text": [
      "5"
     ]
    }
   ],
   "source": [
    "|/[1 2 3 4 5]"
   ]
  },
  {
   "cell_type": "code",
   "execution_count": 19,
   "id": "c685528b-3b2c-434d-adab-b8ce20677f3d",
   "metadata": {},
   "outputs": [
    {
     "name": "stdout",
     "output_type": "stream",
     "text": [
      "4"
     ]
    }
   ],
   "source": [
    "#-4"
   ]
  },
  {
   "cell_type": "markdown",
   "id": "49ab8be3-da92-4dc3-935a-6be94f5fce8a",
   "metadata": {},
   "source": [
    "## Adverbs"
   ]
  },
  {
   "cell_type": "code",
   "execution_count": 116,
   "id": "8f488230-cf30-4315-bc5f-2e43388b0297",
   "metadata": {},
   "outputs": [
    {
     "name": "stdout",
     "output_type": "stream",
     "text": [
      "-8"
     ]
    }
   ],
   "source": [
    "-/[1 2 3 4]  :\"doesn't go right to left like in APL\""
   ]
  },
  {
   "cell_type": "code",
   "execution_count": 119,
   "id": "7f5c4376-f4e9-467b-b4a4-def90928d82a",
   "metadata": {},
   "outputs": [
    {
     "name": "stdout",
     "output_type": "stream",
     "text": [
      "0"
     ]
    }
   ],
   "source": [
    "10-/[1 2 3 4]"
   ]
  },
  {
   "cell_type": "code",
   "execution_count": 117,
   "id": "5bfeeae1-5f3f-44bc-b57e-2b0906534959",
   "metadata": {},
   "outputs": [
    {
     "name": "stdout",
     "output_type": "stream",
     "text": [
      "[ 1 -1 -4 -8]"
     ]
    }
   ],
   "source": [
    "-\\[1 2 3 4]"
   ]
  },
  {
   "cell_type": "code",
   "execution_count": 1,
   "id": "052eca0d-513a-4851-8e5b-f2ad43fff246",
   "metadata": {},
   "outputs": [
    {
     "name": "stdout",
     "output_type": "stream",
     "text": [
      "[10  9  7  4  0]"
     ]
    }
   ],
   "source": [
    "10-\\[1 2 3 4]"
   ]
  }
 ],
 "metadata": {
  "kernelspec": {
   "display_name": "KlongPy",
   "language": "Klong",
   "name": "klongpy_kernel"
  },
  "language_info": {
   "file_extension": ".kg",
   "mimetype": "text/plain",
   "name": "Klong"
  }
 },
 "nbformat": 4,
 "nbformat_minor": 5
}
