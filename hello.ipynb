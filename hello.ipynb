{
 "cells": [
  {
   "cell_type": "code",
   "execution_count": 1,
   "id": "77e070f0-c7f8-4a7d-9204-eebe451631ff",
   "metadata": {},
   "outputs": [
    {
     "name": "stdout",
     "output_type": "stream",
     "text": [
      "[1 2 3 4 5 6 7 8]"
     ]
    }
   ],
   "source": [
    "1+!8"
   ]
  }
 ],
 "metadata": {
  "kernelspec": {
   "display_name": "KlongPy",
   "language": "Klong",
   "name": "klongpy_kernel"
  },
  "language_info": {
   "file_extension": ".kg",
   "mimetype": "text/plain",
   "name": "Klong"
  }
 },
 "nbformat": 4,
 "nbformat_minor": 5
}
